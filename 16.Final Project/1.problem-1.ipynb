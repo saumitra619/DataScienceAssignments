{
 "cells": [
  {
   "cell_type": "code",
   "execution_count": null,
   "metadata": {},
   "outputs": [],
   "source": [
    "import numpy, pandas \n",
    "import matplotlib.pyplot as plt \n",
    "\n",
    "from sklearn.model_selection import train_test_split\n",
    "from sklearn.model_selection import cross_val_predict\n",
    "from sklearn.model_selection import cross_val_score\n",
    "from sklearn.model_selection import cross_validate\n",
    "from sklearn.pipeline import Pipeline\n",
    "from sklearn.preprocessing import StandardScaler\n",
    "from sklearn.decomposition import PCA\n",
    "from sklearn.linear_model import LinearRegression\n",
    "from sklearn.linear_model import LogisticRegression\n",
    "from sklearn.tree import DecisionTreeClassifier\n",
    "from sklearn.ensemble import RandomForestClassifier\n",
    "from sklearn.discriminant_analysis import LinearDiscriminantAnalysis as LDA\n",
    "from sklearn.ensemble import AdaBoostRegressor,BaggingRegressor,ExtraTreesRegressor,GradientBoostingRegressor\n",
    "from sklearn.naive_bayes import GaussianNB\n",
    "from sklearn import svm\n",
    "from sklearn.metrics import accuracy_score\n",
    "from sklearn.model_selection import train_test_split\n",
    "from sklearn.linear_model import LinearRegression\n",
    "from math import sqrt\n",
    "from sklearn.metrics import mean_squared_error\n",
    "import seaborn as sns\n",
    "from sklearn import metrics\n",
    "from sklearn.preprocessing import LabelEncoder\n",
    "from sklearn.ensemble import RandomForestRegressor\n",
    "from sklearn.tree import DecisionTreeRegressor\n",
    "from sklearn.neighbors import KNeighborsRegressor\n",
    "\n",
    "import plotly.express as px\n",
    "\n",
    "car_data = pandas.read_csv('cars.csv')\n",
    "\n",
    "car_data.head()\n",
    "\n",
    "car_data.shape\n"
   ]
  },
  {
   "cell_type": "code",
   "execution_count": null,
   "metadata": {},
   "outputs": [],
   "source": [
    "car_data.info()"
   ]
  },
  {
   "cell_type": "code",
   "execution_count": null,
   "metadata": {},
   "outputs": [],
   "source": [
    "#check again about num of missing values in the dataset columns\n",
    "car_data.isnull().any()"
   ]
  },
  {
   "cell_type": "code",
   "execution_count": null,
   "metadata": {},
   "outputs": [],
   "source": [
    "#check duplicated values\n",
    "car_data.duplicated().sum()"
   ]
  },
  {
   "cell_type": "code",
   "execution_count": null,
   "metadata": {},
   "outputs": [],
   "source": [
    "#remove ID  full_model_name column\n",
    "car_data = car_data.drop(['Id','full_model_name'], axis=1)\n",
    "\n",
    "car_data.reset_index(inplace=True, drop=True) \n",
    "\n",
    "car_data.shape"
   ]
  },
  {
   "cell_type": "code",
   "execution_count": null,
   "metadata": {},
   "outputs": [],
   "source": [
    "car_data['brand'].unique()"
   ]
  },
  {
   "cell_type": "code",
   "execution_count": null,
   "metadata": {},
   "outputs": [],
   "source": [
    "car_data['fuel_type'].unique()"
   ]
  },
  {
   "cell_type": "code",
   "execution_count": null,
   "metadata": {},
   "outputs": [],
   "source": [
    "car_data[car_data.columns[0]].unique()"
   ]
  },
  {
   "cell_type": "code",
   "execution_count": null,
   "metadata": {},
   "outputs": [],
   "source": [
    "#Check outliers:\n",
    "\n",
    "pandas.set_option('display.float_format', lambda x: '%.3f' % x)\n",
    "\n",
    "data = car_data[['year', 'price', 'distance_travelled(kms)']]\n",
    "\n",
    "data.plot(kind='box',figsize=(20,10),subplots=True)\n",
    "\n",
    "plt.show()"
   ]
  },
  {
   "cell_type": "code",
   "execution_count": null,
   "metadata": {},
   "outputs": [],
   "source": [
    "# We can exclude before 2005 from our data since it does not represent a large percentage.\n",
    "\n",
    "car_data = car_data[(car_data['year']>2005)]\n",
    "\n",
    "car_data.shape"
   ]
  },
  {
   "cell_type": "code",
   "execution_count": null,
   "metadata": {},
   "outputs": [],
   "source": [
    "#reset indexex again after remove duplication and outliers\n",
    "car_data.reset_index(inplace=True, drop=True)"
   ]
  },
  {
   "cell_type": "code",
   "execution_count": null,
   "metadata": {},
   "outputs": [],
   "source": [
    "plt.figure(figsize=(13,4))\n",
    "\n",
    "sns.histplot(car_data['year'])"
   ]
  },
  {
   "attachments": {},
   "cell_type": "markdown",
   "metadata": {},
   "source": [
    "we have a gap year from 2013 to 2014 in our data,"
   ]
  },
  {
   "cell_type": "code",
   "execution_count": null,
   "metadata": {},
   "outputs": [],
   "source": [
    "plt.figure(figsize=(13,4))\n",
    "\n",
    "plt.ticklabel_format(style = 'plain')\n",
    "\n",
    "sns.histplot(car_data['price'])"
   ]
  },
  {
   "cell_type": "code",
   "execution_count": null,
   "metadata": {},
   "outputs": [],
   "source": [
    "fig = px.histogram(car_data, x=\"brand\", nbins=10)\n",
    "fig.show()"
   ]
  },
  {
   "cell_type": "code",
   "execution_count": null,
   "metadata": {},
   "outputs": [],
   "source": [
    "plt.figure(figsize=(12,5))\n",
    "car_data['brand'].value_counts()[:10].sort_values(ascending=True).plot(kind='barh')\n",
    "plt.title(\"Top 10 Common Car Brands\")\n",
    "plt.show()"
   ]
  },
  {
   "cell_type": "code",
   "execution_count": null,
   "metadata": {},
   "outputs": [],
   "source": [
    "plt.figure(figsize=(12,5))\n",
    "car_data['model_name'].value_counts()[:10].sort_values(ascending=True).plot(kind='barh')\n",
    "plt.title(\"Top 10 Common Car Models\")\n",
    "plt.show()"
   ]
  },
  {
   "cell_type": "code",
   "execution_count": null,
   "metadata": {},
   "outputs": [],
   "source": [
    "df_pie=car_data['fuel_type'].value_counts()\n",
    "\n",
    "labels = ['Diesel', 'Petrol', 'CNG + 1', 'Petrol + 1', 'Hybrid']\n",
    "colors = sns.color_palette('Paired')\n",
    "\n",
    "plt.figure(figsize=(7,7))\n",
    "plt.pie(df_pie,autopct='%1.1f%%',labels=labels, colors=colors, startangle=90,wedgeprops = { 'linewidth' : 2, 'edgecolor' : 'white' });\n",
    "plt.title(\"Fuel Types in Used Cars\")\n",
    "plt.show()"
   ]
  },
  {
   "cell_type": "code",
   "execution_count": null,
   "metadata": {},
   "outputs": [],
   "source": [
    "\n",
    "plt.figure(figsize=(12,5))\n",
    "plt.ticklabel_format(style = 'plain')\n",
    "plt.bar(car_data['fuel_type'], car_data['price'])\n",
    "plt.title('Car fuel type affect the selling price')\n",
    "plt.show()"
   ]
  },
  {
   "cell_type": "code",
   "execution_count": null,
   "metadata": {},
   "outputs": [],
   "source": [
    "plt.figure(figsize=(12,5))\n",
    "plt.ticklabel_format(style = 'plain')\n",
    "plt.barh(car_data['city'], sorted(car_data['price']))\n",
    "plt.title('City by Selling Price')\n",
    "plt.show()"
   ]
  },
  {
   "cell_type": "code",
   "execution_count": null,
   "metadata": {},
   "outputs": [],
   "source": [
    "plt.figure(figsize=(12,5))\n",
    "car_data['city'].value_counts().plot(kind='bar')\n",
    "plt.xticks(rotation=90)\n",
    "plt.title(\"Indian Cities with Num of Used Cars\")\n",
    "plt.show()"
   ]
  },
  {
   "attachments": {},
   "cell_type": "markdown",
   "metadata": {},
   "source": [
    "cars clocking below 30k kms is a good car"
   ]
  },
  {
   "cell_type": "code",
   "execution_count": null,
   "metadata": {},
   "outputs": [],
   "source": [
    "thresh_kms = 30000\n",
    "temp = []\n",
    "for i in car_data['distance_travelled(kms)']:\n",
    "    if(i<=thresh_kms):\n",
    "        temp.append(int(1))\n",
    "    else:\n",
    "        temp.append(int(0))\n",
    "\n",
    "\n",
    "car_data['distance below 30k km'] = temp\n",
    "car_data.head()"
   ]
  },
  {
   "attachments": {},
   "cell_type": "markdown",
   "metadata": {},
   "source": [
    "Getting New And Less Used Cars"
   ]
  },
  {
   "cell_type": "code",
   "execution_count": null,
   "metadata": {},
   "outputs": [],
   "source": [
    "temp = []\n",
    "for i in range(0,1714,1):\n",
    "    if((car_data['car_age'][i]<=4) and (car_data['distance below 30k km'][i] == 1)):\n",
    "        temp.append(int(1))\n",
    "    else:\n",
    "        temp.append(int(0))\n",
    "\n",
    "\n",
    "\n",
    "car_data['new and less used'] = temp\n",
    "car_data.head()"
   ]
  },
  {
   "cell_type": "code",
   "execution_count": null,
   "metadata": {},
   "outputs": [],
   "source": [
    "X= car_data[['price','brand_rank','distance_travelled(kms)']]\n",
    "Y= car_data[\"new and less used\"]"
   ]
  },
  {
   "attachments": {},
   "cell_type": "markdown",
   "metadata": {},
   "source": [
    "Build a calssification model."
   ]
  },
  {
   "cell_type": "code",
   "execution_count": null,
   "metadata": {},
   "outputs": [],
   "source": [
    "# Assigning the featurs as X and target as y\n",
    "\n",
    "X= car_data[['price','brand_rank','distance_travelled(kms)']]\n",
    "Y= car_data[\"new and less used\"]\n",
    "\n",
    "\n",
    "\n",
    "train_x, test_x, train_y, test_y = train_test_split(X, Y, random_state = 10, test_size = 0.20) "
   ]
  },
  {
   "cell_type": "code",
   "execution_count": null,
   "metadata": {},
   "outputs": [],
   "source": [
    "liner_model = LinearRegression()\n",
    "liner_model.fit(train_x, train_y)\n",
    "\n",
    "predicted_values = liner_model.predict(test_x)\n",
    "\n",
    "rms = sqrt(mean_squared_error(test_y, predicted_values))\n",
    "\n",
    "print(\"value of Root Mean Squared Error\" ,rms)\n",
    "\n",
    "plt.scatter(numpy.array(predicted_values), numpy.array(test_y))\n",
    "plt.show()"
   ]
  },
  {
   "cell_type": "code",
   "execution_count": null,
   "metadata": {},
   "outputs": [],
   "source": [
    "\n",
    "ln_model = LogisticRegression()\n",
    "\n",
    "ln_model.fit(train_x, train_y)\n",
    "\n",
    "predicted_data = ln_model.predict(test_x)\n",
    "\n",
    "metrics.accuracy_score(predicted_data, test_y)"
   ]
  },
  {
   "cell_type": "code",
   "execution_count": null,
   "metadata": {},
   "outputs": [],
   "source": [
    "model_lda = LDA()\n",
    "\n",
    "model_lda.fit(train_x, train_y)\n",
    "\n",
    "predicted_val = model_lda.predict(test_x)\n",
    "\n",
    "metrics.accuracy_score(predicted_val, test_y)"
   ]
  },
  {
   "cell_type": "code",
   "execution_count": null,
   "metadata": {},
   "outputs": [],
   "source": [
    "dec_tree = DecisionTreeClassifier()\n",
    "\n",
    "dec_tree.fit(train_x, train_y)\n",
    "\n",
    "predicted_outcome = dec_tree.predict(test_x)\n",
    "\n",
    "metrics.accuracy_score(predicted_outcome, test_y)"
   ]
  },
  {
   "cell_type": "code",
   "execution_count": null,
   "metadata": {},
   "outputs": [],
   "source": [
    "random_forest = RandomForestClassifier()\n",
    "\n",
    "random_forest.fit(train_x, train_y)\n",
    "\n",
    "predicted_outcome = random_forest.predict(test_x)\n",
    "\n",
    "metrics.accuracy_score(predicted_outcome, test_y)"
   ]
  },
  {
   "cell_type": "code",
   "execution_count": null,
   "metadata": {},
   "outputs": [],
   "source": [
    "g_model = GaussianNB()\n",
    "g_model.fit(train_x, train_y)\n",
    "\n",
    "predicted_values = g_model.predict(test_x)\n",
    "metrics.accuracy_score(predicted_values, test_y)"
   ]
  },
  {
   "cell_type": "code",
   "execution_count": null,
   "metadata": {},
   "outputs": [],
   "source": [
    "\n",
    "model_svm = svm.LinearSVC()\n",
    "model_svm.fit(train_x, train_y)\n",
    "\n",
    "\n",
    "predicted_values = model_svm.predict(test_x)\n",
    "metrics.accuracy_score(predicted_values, test_y)"
   ]
  },
  {
   "cell_type": "code",
   "execution_count": null,
   "metadata": {},
   "outputs": [],
   "source": [
    "lr=Pipeline([(\"pca1\",PCA(n_components=3)),(\"LR\",LinearRegression())])\n",
    "\n",
    "dt=Pipeline([(\"pca2\",PCA(n_components=3)),(\"DT\",DecisionTreeRegressor())])\n",
    "\n",
    "rf=Pipeline([(\"pca3\",PCA(n_components=3)),(\"RF\",RandomForestRegressor())])\n",
    "\n",
    "knn=Pipeline([(\"pca4\",PCA(n_components=3)),(\"KNN\",KNeighborsRegressor())])\n",
    "\n",
    "ada=Pipeline([(\"pca5\",PCA(n_components=3)),(\"ADA\",AdaBoostRegressor())])\n",
    "\n",
    "bag=Pipeline([(\"pca6\",PCA(n_components=3)),(\"BAG\",BaggingRegressor())])\n",
    "\n",
    "ext=Pipeline([(\"pca7\",PCA(n_components=3)),(\"EXT\",ExtraTreesRegressor())])\n",
    "\n",
    "grad=Pipeline([(\"pca4\",PCA(n_components=3)),(\"XGB\",GradientBoostingRegressor())])"
   ]
  },
  {
   "cell_type": "code",
   "execution_count": null,
   "metadata": {},
   "outputs": [],
   "source": [
    "pipelines = [lr, dt, rf, knn, ada,bag, ext, grad]\n",
    "\n",
    "\n",
    "pipe_dict = {0: \"LinearRegression\", 1: \"DecisionTree\", 2: \"RandomForest\",3: \"KNeighbors\", 4: \"AdaBoosting\",5:\"Bagging\",6:\"ExtraTree\",7:\"GradientBoosting\"}\n",
    "\n",
    "\n",
    "# Fit the pipelines\n",
    "for pipe in pipelines:\n",
    "    pipe.fit(train_x, train_y)\n",
    "\n",
    "#Getting CV scores    \n",
    "cv_results_rms = []\n",
    "for i, model in enumerate(pipelines):\n",
    "    cv_score = cross_val_score(model, train_x,train_y,scoring=\"neg_root_mean_squared_error\", cv=10)\n",
    "    cv_results_rms.append(cv_score)\n",
    "    print(\"%s: %f \" % (pipe_dict[i], cv_score.mean()))"
   ]
  }
 ],
 "metadata": {
  "kernelspec": {
   "display_name": "Python 3",
   "language": "python",
   "name": "python3"
  },
  "language_info": {
   "codemirror_mode": {
    "name": "ipython",
    "version": 3
   },
   "file_extension": ".py",
   "mimetype": "text/x-python",
   "name": "python",
   "nbconvert_exporter": "python",
   "pygments_lexer": "ipython3",
   "version": "3.10.7"
  },
  "orig_nbformat": 4,
  "vscode": {
   "interpreter": {
    "hash": "26de051ba29f2982a8de78e945f0abaf191376122a1563185a90213a26c5da77"
   }
  }
 },
 "nbformat": 4,
 "nbformat_minor": 2
}
