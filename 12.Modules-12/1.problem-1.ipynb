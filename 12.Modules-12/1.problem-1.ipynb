{
 "cells": [
  {
   "cell_type": "code",
   "execution_count": 97,
   "metadata": {},
   "outputs": [],
   "source": [
    "import numpy as np\n",
    "import pylab as plt\n",
    "import networkx as nx"
   ]
  },
  {
   "cell_type": "code",
   "execution_count": 98,
   "metadata": {},
   "outputs": [
    {
     "data": {
      "image/png": "[encoded data removed]",
      "text/plain": [
       "<Figure size 640x480 with 1 Axes>"
      ]
     },
     "metadata": {},
     "output_type": "display_data"
    }
   ],
   "source": [
    "#Initializing points\n",
    "points_list = [(0,1), (1,5), (5,6), (5,4), (1,2), (2,3), (2,7)]\n",
    " \n",
    "goal = 7\n",
    "mapping={0:'Start', 1:'1', 2:'2', 3:'3', 4:'4', 5:'5', 6:'6', 7:'7-Destination'}\n",
    "G=nx.Graph()\n",
    "G.add_edges_from(points_list)\n",
    "pos = nx.spring_layout(G,k=.5,center=points_list[2])\n",
    "nx.draw_networkx_nodes(G,pos,node_color='g')\n",
    "nx.draw_networkx_edges(G,pos,edge_color='b')\n",
    "nx.draw_networkx_labels(G,pos)\n",
    "plt.show()"
   ]
  },
  {
   "cell_type": "code",
   "execution_count": 99,
   "metadata": {},
   "outputs": [
    {
     "name": "stdout",
     "output_type": "stream",
     "text": [
      "(0, 1)\n",
      "(1, 5)\n",
      "(5, 6)\n",
      "(5, 4)\n",
      "(1, 2)\n",
      "(2, 3)\n",
      "(2, 7)\n"
     ]
    }
   ],
   "source": [
    "NO_OF_POINTS = 8\n",
    " \n",
    "#Inititlaizing R Matrix\n",
    "R = np.matrix(np.ones(shape=(NO_OF_POINTS, NO_OF_POINTS)))\n",
    "R *= -1\n",
    " \n",
    "for point in points_list:\n",
    "    print(point)\n",
    "    if point[1] == goal:\n",
    "     R[point] = 150\n",
    "    else:\n",
    "     R[point] = 0\n",
    " \n",
    "if point[0] == goal:\n",
    "  R[point[::-1]] = 150\n",
    "else:\n",
    "  R[point[::-1]]= 0"
   ]
  },
  {
   "cell_type": "code",
   "execution_count": 100,
   "metadata": {},
   "outputs": [
    {
     "data": {
      "text/plain": [
       "matrix([[ -1.,   0.,  -1.,  -1.,  -1.,  -1.,  -1.,  -1.],\n",
       "        [ -1.,  -1.,   0.,  -1.,  -1.,   0.,  -1.,  -1.],\n",
       "        [ -1.,  -1.,  -1.,   0.,  -1.,  -1.,  -1., 150.],\n",
       "        [ -1.,  -1.,  -1.,  -1.,  -1.,  -1.,  -1.,  -1.],\n",
       "        [ -1.,  -1.,  -1.,  -1.,  -1.,  -1.,  -1.,  -1.],\n",
       "        [ -1.,  -1.,  -1.,  -1.,   0.,  -1.,   0.,  -1.],\n",
       "        [ -1.,  -1.,  -1.,  -1.,  -1.,  -1.,  -1.,  -1.],\n",
       "        [ -1.,  -1.,   0.,  -1.,  -1.,  -1.,  -1., 150.]])"
      ]
     },
     "execution_count": 100,
     "metadata": {},
     "output_type": "execute_result"
    }
   ],
   "source": [
    "R[goal,goal]= 150 \n",
    "\n",
    "# R matrix\n",
    "R"
   ]
  },
  {
   "cell_type": "code",
   "execution_count": 101,
   "metadata": {},
   "outputs": [
    {
     "name": "stdout",
     "output_type": "stream",
     "text": [
      "[[0. 0. 0. 0. 0. 0. 0. 0.]\n",
      " [0. 0. 0. 0. 0. 0. 0. 0.]\n",
      " [0. 0. 0. 0. 0. 0. 0. 0.]\n",
      " [0. 0. 0. 0. 0. 0. 0. 0.]\n",
      " [0. 0. 0. 0. 0. 0. 0. 0.]\n",
      " [0. 0. 0. 0. 0. 0. 0. 0.]\n",
      " [0. 0. 0. 0. 0. 0. 0. 0.]\n",
      " [0. 0. 0. 0. 0. 0. 0. 0.]]\n"
     ]
    }
   ],
   "source": [
    "# Q matrix\n",
    "Q = np.matrix (np.zeros([NO_OF_POINTS,NO_OF_POINTS]))\n",
    "print(Q)\n",
    "# Gamma (learning parameter)\n",
    "gamma = 0.8\n",
    "# Initial state (Usually to be chosen at random)\n",
    "initial_state = 1"
   ]
  },
  {
   "cell_type": "code",
   "execution_count": 102,
   "metadata": {},
   "outputs": [],
   "source": [
    "# function returns all available actions \n",
    "def available_actions(state):\n",
    "   current_state_row = R[state,]\n",
    "   av_act = np.where(current_state_row >= 0)[1]\n",
    "   return av_act\n",
    " \n",
    " \n",
    "# Get available actions in the current state \n",
    "available_act = available_actions(initial_state)\n",
    "\n"
   ]
  },
  {
   "cell_type": "code",
   "execution_count": 103,
   "metadata": {},
   "outputs": [],
   "source": [
    "# function chooses at random which action to be performed within the range \n",
    "# of all the available actions.\n",
    "\n",
    "def sample_next_action(available_actions_range):\n",
    "   next_action = int(np.random.choice(available_act,1))\n",
    "   return next_action\n",
    "\n",
    "\n",
    "# Sample next action to be performed \n",
    "action = sample_next_action(available_act)"
   ]
  },
  {
   "cell_type": "code",
   "execution_count": 104,
   "metadata": {},
   "outputs": [
    {
     "name": "stdout",
     "output_type": "stream",
     "text": [
      "max_value 0.0\n"
     ]
    },
    {
     "data": {
      "text/plain": [
       "0"
      ]
     },
     "execution_count": 104,
     "metadata": {},
     "output_type": "execute_result"
    }
   ],
   "source": [
    "\n",
    "def update(current_state, action, gamma):\n",
    " \n",
    "   max_index = np.where(Q[action,] == np.max(Q[action,]))[1]\n",
    " \n",
    "   if max_index.shape[0] > 1:\n",
    "      max_index = int(np.random.choice(max_index, size = 1))\n",
    "   else:\n",
    "      max_index = int(max_index)\n",
    "   max_value = Q[action, max_index]\n",
    "   \n",
    "    \n",
    "   # Q learning formula\n",
    "   Q[current_state, action] = R[current_state, action] + gamma * max_value\n",
    "   \n",
    "   print('max_value', R[current_state, action] + gamma * max_value)\n",
    " \n",
    "   if (np.max(Q) > 0):\n",
    "       return(np.sum(Q/np.max(Q)*100))\n",
    "   else:\n",
    "      return (0)\n",
    " \n",
    "update(initial_state, action, gamma)"
   ]
  },
  {
   "cell_type": "code",
   "execution_count": 105,
   "metadata": {},
   "outputs": [
    {
     "name": "stdout",
     "output_type": "stream",
     "text": [
      "max_value 0.0\n",
      "max_value 0.0\n"
     ]
    },
    {
     "ename": "ValueError",
     "evalue": "'a' cannot be empty unless no samples are taken",
     "output_type": "error",
     "traceback": [
      "\u001b[1;31m---------------------------------------------------------------------------\u001b[0m",
      "\u001b[1;31mValueError\u001b[0m                                Traceback (most recent call last)",
      "\u001b[1;32mc:\\Users\\SAUMI\\OneDrive\\Desktop\\Assignments\\12.Modules-12\\1.problem-1.ipynb Cell 9\u001b[0m in \u001b[0;36m7\n\u001b[0;32m      <a href='vscode-notebook-cell:/c%3A/Users/SAUMI/OneDrive/Desktop/Assignments/12.Modules-12/1.problem-1.ipynb#X11sZmlsZQ%3D%3D?line=4'>5</a>\u001b[0m current_state \u001b[39m=\u001b[39m np\u001b[39m.\u001b[39mrandom\u001b[39m.\u001b[39mrandint(\u001b[39m0\u001b[39m,\u001b[39mint\u001b[39m(Q\u001b[39m.\u001b[39mshape[\u001b[39m0\u001b[39m]))\n\u001b[0;32m      <a href='vscode-notebook-cell:/c%3A/Users/SAUMI/OneDrive/Desktop/Assignments/12.Modules-12/1.problem-1.ipynb#X11sZmlsZQ%3D%3D?line=5'>6</a>\u001b[0m available_act \u001b[39m=\u001b[39m available_actions(current_state)\n\u001b[1;32m----> <a href='vscode-notebook-cell:/c%3A/Users/SAUMI/OneDrive/Desktop/Assignments/12.Modules-12/1.problem-1.ipynb#X11sZmlsZQ%3D%3D?line=6'>7</a>\u001b[0m action \u001b[39m=\u001b[39m sample_next_action(available_act)\n\u001b[0;32m      <a href='vscode-notebook-cell:/c%3A/Users/SAUMI/OneDrive/Desktop/Assignments/12.Modules-12/1.problem-1.ipynb#X11sZmlsZQ%3D%3D?line=7'>8</a>\u001b[0m score \u001b[39m=\u001b[39m update(current_state,action,gamma)\n\u001b[0;32m      <a href='vscode-notebook-cell:/c%3A/Users/SAUMI/OneDrive/Desktop/Assignments/12.Modules-12/1.problem-1.ipynb#X11sZmlsZQ%3D%3D?line=8'>9</a>\u001b[0m scores\u001b[39m.\u001b[39mappend(score)\n",
      "\u001b[1;32mc:\\Users\\SAUMI\\OneDrive\\Desktop\\Assignments\\12.Modules-12\\1.problem-1.ipynb Cell 9\u001b[0m in \u001b[0;36m5\n\u001b[0;32m      <a href='vscode-notebook-cell:/c%3A/Users/SAUMI/OneDrive/Desktop/Assignments/12.Modules-12/1.problem-1.ipynb#X11sZmlsZQ%3D%3D?line=3'>4</a>\u001b[0m \u001b[39mdef\u001b[39;00m \u001b[39msample_next_action\u001b[39m(available_actions_range):\n\u001b[1;32m----> <a href='vscode-notebook-cell:/c%3A/Users/SAUMI/OneDrive/Desktop/Assignments/12.Modules-12/1.problem-1.ipynb#X11sZmlsZQ%3D%3D?line=4'>5</a>\u001b[0m    next_action \u001b[39m=\u001b[39m \u001b[39mint\u001b[39m(np\u001b[39m.\u001b[39;49mrandom\u001b[39m.\u001b[39;49mchoice(available_act,\u001b[39m1\u001b[39;49m))\n\u001b[0;32m      <a href='vscode-notebook-cell:/c%3A/Users/SAUMI/OneDrive/Desktop/Assignments/12.Modules-12/1.problem-1.ipynb#X11sZmlsZQ%3D%3D?line=5'>6</a>\u001b[0m    \u001b[39mreturn\u001b[39;00m next_action\n",
      "File \u001b[1;32mmtrand.pyx:915\u001b[0m, in \u001b[0;36mnumpy.random.mtrand.RandomState.choice\u001b[1;34m()\u001b[0m\n",
      "\u001b[1;31mValueError\u001b[0m: 'a' cannot be empty unless no samples are taken"
     ]
    }
   ],
   "source": [
    "# Training\n",
    "scores = []\n",
    "\n",
    "for i in range(700):\n",
    "    current_state = np.random.randint(0,int(Q.shape[0]))\n",
    "    available_act = available_actions(current_state)\n",
    "    action = sample_next_action(available_act)\n",
    "    score = update(current_state,action,gamma)\n",
    "    scores.append(score)\n",
    "    update(current_state,action,gamma)"
   ]
  },
  {
   "cell_type": "code",
   "execution_count": null,
   "metadata": {},
   "outputs": [],
   "source": [
    "print ('Score:', str(score))\n",
    " \n",
    "print(\"Trained Q matrix:\")\n",
    "print(Q/np.max(Q)*100)"
   ]
  },
  {
   "cell_type": "code",
   "execution_count": null,
   "metadata": {},
   "outputs": [],
   "source": [
    " \n",
    "# Testing\n",
    "current_state = 0\n",
    "steps = [current_state]\n",
    " \n",
    "while current_state != 7:\n",
    " \n",
    "  next_step_index = np.where(Q[current_state,] == np.max(Q[current_state,]))[1]\n",
    " \n",
    "  if next_step_index.shape[0] > 1:\n",
    "    next_step_index = int(np.random.choice(next_step_index, size = 1))\n",
    "  else:\n",
    "    next_step_index = int(next_step_index)\n",
    "    \n",
    "  steps.append(next_step_index)\n",
    "  current_state = next_step_index"
   ]
  },
  {
   "cell_type": "code",
   "execution_count": null,
   "metadata": {},
   "outputs": [],
   "source": [
    "# Print selected sequence of steps\n",
    "print(\"Selected path:\")\n",
    "\n",
    "print(steps)"
   ]
  },
  {
   "cell_type": "code",
   "execution_count": null,
   "metadata": {},
   "outputs": [],
   "source": [
    "plt.plot(scores)\n",
    "plt.show()"
   ]
  }
 ],
 "metadata": {
  "kernelspec": {
   "display_name": "Python 3",
   "language": "python",
   "name": "python3"
  },
  "language_info": {
   "codemirror_mode": {
    "name": "ipython",
    "version": 3
   },
   "file_extension": ".py",
   "mimetype": "text/x-python",
   "name": "python",
   "nbconvert_exporter": "python",
   "pygments_lexer": "ipython3",
   "version": "3.10.7"
  },
  "orig_nbformat": 4,
  "vscode": {
   "interpreter": {
    "hash": "26de051ba29f2982a8de78e945f0abaf191376122a1563185a90213a26c5da77"
   }
  }
 },
 "nbformat": 4,
 "nbformat_minor": 2
}
