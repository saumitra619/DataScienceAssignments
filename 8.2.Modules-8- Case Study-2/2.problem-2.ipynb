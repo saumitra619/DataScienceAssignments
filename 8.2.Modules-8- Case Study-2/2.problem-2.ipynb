{
 "cells": [
  {
   "cell_type": "code",
   "execution_count": 2,
   "metadata": {},
   "outputs": [],
   "source": [
    "import numpy, pandas \n",
    "import matplotlib.pyplot as plt \n",
    "from sklearn.datasets import load_digits\n",
    "from sklearn.model_selection import train_test_split\n",
    "from sklearn.linear_model import LogisticRegression\n",
    "from sklearn import metrics\n",
    "from sklearn.discriminant_analysis import LinearDiscriminantAnalysis as LDA"
   ]
  },
  {
   "cell_type": "code",
   "execution_count": 3,
   "metadata": {},
   "outputs": [],
   "source": [
    "digits = load_digits()\n",
    "\n",
    "images = digits.images.reshape(digits.images.shape[0], -1)\n",
    "\n",
    "labels = digits.target\n",
    "\n",
    "train_x, test_x, train_y, test_y = train_test_split(images, labels, random_state=10, test_size=0.20)\n"
   ]
  },
  {
   "cell_type": "code",
   "execution_count": 4,
   "metadata": {},
   "outputs": [
    {
     "name": "stdout",
     "output_type": "stream",
     "text": [
      "[0.29115346 0.1856254  0.16536448 0.1171311  0.08263054]\n"
     ]
    }
   ],
   "source": [
    "# T0 Get 95% of Accuracy n_components should be 5\n",
    "model_lda = LDA(n_components=5)\n",
    "model_lda.fit(train_x, train_y)\n",
    "\n",
    "print(model_lda.explained_variance_ratio_)\n",
    "\n",
    "train_x = model_lda.transform(train_x)\n",
    "test_x = model_lda.transform(test_x)"
   ]
  }
 ],
 "metadata": {
  "kernelspec": {
   "display_name": "Python 3",
   "language": "python",
   "name": "python3"
  },
  "language_info": {
   "codemirror_mode": {
    "name": "ipython",
    "version": 3
   },
   "file_extension": ".py",
   "mimetype": "text/x-python",
   "name": "python",
   "nbconvert_exporter": "python",
   "pygments_lexer": "ipython3",
   "version": "3.10.7"
  },
  "orig_nbformat": 4
 },
 "nbformat": 4,
 "nbformat_minor": 2
}
