{
 "cells": [
  {
   "cell_type": "code",
   "execution_count": 2,
   "metadata": {},
   "outputs": [
    {
     "name": "stderr",
     "output_type": "stream",
     "text": [
      "C:\\Users\\SAUMI\\AppData\\Local\\Temp\\ipykernel_3536\\2522247804.py:5: DtypeWarning: Columns (12) have mixed types. Specify dtype option on import or set low_memory=False.\n",
      "  df = pandas.read_csv('Salaries.csv')\n"
     ]
    }
   ],
   "source": [
    "import numpy, pandas \n",
    "import matplotlib.pyplot as plt \n",
    "\n",
    "\n",
    "df = pandas.read_csv('Salaries.csv')\n"
   ]
  },
  {
   "cell_type": "code",
   "execution_count": 3,
   "metadata": {},
   "outputs": [
    {
     "name": "stdout",
     "output_type": "stream",
     "text": [
      "Total change from 2011 to 2014 is 282797920.53999996\n"
     ]
    }
   ],
   "source": [
    "df_2011= df[df[\"Year\"] == 2011]\n",
    "\n",
    "df_2014 = df[df[\"Year\"] == 2014]\n",
    "\n",
    "total_salary_2011 = df_2011[\"TotalPay\"].sum()\n",
    "\n",
    "total_salary_2014 = df_2014[\"TotalPay\"].sum()\n",
    "\n",
    "total_change_2011_2014 = float(total_salary_2014) - float(total_salary_2011)\n",
    "\n",
    "print(\"Total change from 2011 to 2014 is \" + str(total_change_2011_2014))"
   ]
  },
  {
   "cell_type": "code",
   "execution_count": 4,
   "metadata": {},
   "outputs": [
    {
     "name": "stdout",
     "output_type": "stream",
     "text": [
      "Job Title with highest mean salary in the year 2014 is :\n"
     ]
    },
    {
     "data": {
      "text/html": [
       "<div>\n",
       "<style scoped>\n",
       "    .dataframe tbody tr th:only-of-type {\n",
       "        vertical-align: middle;\n",
       "    }\n",
       "\n",
       "    .dataframe tbody tr th {\n",
       "        vertical-align: top;\n",
       "    }\n",
       "\n",
       "    .dataframe thead th {\n",
       "        text-align: right;\n",
       "    }\n",
       "</style>\n",
       "<table border=\"1\" class=\"dataframe\">\n",
       "  <thead>\n",
       "    <tr style=\"text-align: right;\">\n",
       "      <th></th>\n",
       "      <th>TotalPay</th>\n",
       "    </tr>\n",
       "    <tr>\n",
       "      <th>JobTitle</th>\n",
       "      <th></th>\n",
       "    </tr>\n",
       "  </thead>\n",
       "  <tbody>\n",
       "    <tr>\n",
       "      <th>Chief Investment Officer</th>\n",
       "      <td>339653.700</td>\n",
       "    </tr>\n",
       "    <tr>\n",
       "      <th>Chief of Police</th>\n",
       "      <td>326716.760</td>\n",
       "    </tr>\n",
       "    <tr>\n",
       "      <th>Chief, Fire Department</th>\n",
       "      <td>326233.440</td>\n",
       "    </tr>\n",
       "    <tr>\n",
       "      <th>Gen Mgr, Public Trnsp Dept</th>\n",
       "      <td>294000.180</td>\n",
       "    </tr>\n",
       "    <tr>\n",
       "      <th>Dep Chf of Dept (Fire Dept)</th>\n",
       "      <td>285575.785</td>\n",
       "    </tr>\n",
       "  </tbody>\n",
       "</table>\n",
       "</div>"
      ],
      "text/plain": [
       "                               TotalPay\n",
       "JobTitle                               \n",
       "Chief Investment Officer     339653.700\n",
       "Chief of Police              326716.760\n",
       "Chief, Fire Department       326233.440\n",
       "Gen Mgr, Public Trnsp Dept   294000.180\n",
       "Dep Chf of Dept (Fire Dept)  285575.785"
      ]
     },
     "execution_count": 4,
     "metadata": {},
     "output_type": "execute_result"
    }
   ],
   "source": [
    "df_mean_pay_job_wise= df_2014[['JobTitle','TotalPay']].groupby('JobTitle').mean()\n",
    "\n",
    "df_pay_list =df_mean_pay_job_wise.sort_values(by='TotalPay',ascending=False)\n",
    "\n",
    "print('Job Title with highest mean salary in the year 2014 is :')\n",
    "\n",
    "df_pay_list.head()\n"
   ]
  },
  {
   "cell_type": "code",
   "execution_count": 5,
   "metadata": {},
   "outputs": [
    {
     "name": "stdout",
     "output_type": "stream",
     "text": [
      "205918599.26999998 money could have been saved in Year 2014 by stopping OverTimePay\n"
     ]
    }
   ],
   "source": [
    "total_overtimepay_2014 = df_2014[\"OvertimePay\"].sum()\n",
    "\n",
    "print(str(float(total_overtimepay_2014)) +\" money could have been saved \")"
   ]
  },
  {
   "cell_type": "code",
   "execution_count": 15,
   "metadata": {},
   "outputs": [
    {
     "name": "stdout",
     "output_type": "stream",
     "text": [
      "                                   TotalPay\n",
      "Year JobTitle                              \n",
      "2014 Transit Operator                  2479\n",
      "     Special Nurse                     1478\n",
      "     Registered Nurse                  1234\n",
      "     Public Svc Aide-Public Works       916\n",
      "     Firefighter                        815\n"
     ]
    }
   ],
   "source": [
    "grouped_df_5_common = df_2014.groupby([\"Year\", \"JobTitle\"]).agg(\"count\").filter(\n",
    "    [\"Year\", \"TotalPay\", \"JobTitle\"]).sort_values(\"TotalPay\", ascending=False)\n",
    "\n",
    "print(grouped_df_5_common.head(5))"
   ]
  },
  {
   "cell_type": "code",
   "execution_count": 6,
   "metadata": {},
   "outputs": [
    {
     "data": {
      "text/html": [
       "<div>\n",
       "<style scoped>\n",
       "    .dataframe tbody tr th:only-of-type {\n",
       "        vertical-align: middle;\n",
       "    }\n",
       "\n",
       "    .dataframe tbody tr th {\n",
       "        vertical-align: top;\n",
       "    }\n",
       "\n",
       "    .dataframe thead th {\n",
       "        text-align: right;\n",
       "    }\n",
       "</style>\n",
       "<table border=\"1\" class=\"dataframe\">\n",
       "  <thead>\n",
       "    <tr style=\"text-align: right;\">\n",
       "      <th></th>\n",
       "      <th>EmployeeName</th>\n",
       "      <th>TotalPay</th>\n",
       "      <th>Year</th>\n",
       "      <th>JobTitle</th>\n",
       "    </tr>\n",
       "  </thead>\n",
       "  <tbody>\n",
       "    <tr>\n",
       "      <th>0</th>\n",
       "      <td>NATHANIEL FORD</td>\n",
       "      <td>567595.43</td>\n",
       "      <td>2011</td>\n",
       "      <td>GENERAL MANAGER-METROPOLITAN TRANSIT AUTHORITY</td>\n",
       "    </tr>\n",
       "    <tr>\n",
       "      <th>36158</th>\n",
       "      <td>Gary Altenberg</td>\n",
       "      <td>362844.66</td>\n",
       "      <td>2012</td>\n",
       "      <td>Lieutenant, Fire Suppression</td>\n",
       "    </tr>\n",
       "    <tr>\n",
       "      <th>72925</th>\n",
       "      <td>Samson  Lai</td>\n",
       "      <td>347102.32</td>\n",
       "      <td>2013</td>\n",
       "      <td>Battalion Chief, Fire Suppress</td>\n",
       "    </tr>\n",
       "    <tr>\n",
       "      <th>110529</th>\n",
       "      <td>David Shinn</td>\n",
       "      <td>471952.64</td>\n",
       "      <td>2014</td>\n",
       "      <td>Deputy Chief 3</td>\n",
       "    </tr>\n",
       "  </tbody>\n",
       "</table>\n",
       "</div>"
      ],
      "text/plain": [
       "          EmployeeName   TotalPay  Year  \\\n",
       "0       NATHANIEL FORD  567595.43  2011   \n",
       "36158   Gary Altenberg  362844.66  2012   \n",
       "72925      Samson  Lai  347102.32  2013   \n",
       "110529     David Shinn  471952.64  2014   \n",
       "\n",
       "                                              JobTitle  \n",
       "0       GENERAL MANAGER-METROPOLITAN TRANSIT AUTHORITY  \n",
       "36158                     Lieutenant, Fire Suppression  \n",
       "72925                   Battalion Chief, Fire Suppress  \n",
       "110529                                  Deputy Chief 3  "
      ]
     },
     "execution_count": 6,
     "metadata": {},
     "output_type": "execute_result"
    }
   ],
   "source": [
    "df.loc[df.groupby('Year')['TotalPay'].idxmax(),['EmployeeName','TotalPay','Year','JobTitle']]"
   ]
  }
 ],
 "metadata": {
  "kernelspec": {
   "display_name": "Python 3",
   "language": "python",
   "name": "python3"
  },
  "language_info": {
   "codemirror_mode": {
    "name": "ipython",
    "version": 3
   },
   "file_extension": ".py",
   "mimetype": "text/x-python",
   "name": "python",
   "nbconvert_exporter": "python",
   "pygments_lexer": "ipython3",
   "version": "3.10.7"
  },
  "orig_nbformat": 4
 },
 "nbformat": 4,
 "nbformat_minor": 2
}
