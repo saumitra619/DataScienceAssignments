{
 "cells": [
  {
   "cell_type": "code",
   "execution_count": 2,
   "metadata": {},
   "outputs": [],
   "source": [
    "import numpy, pandas \n",
    "import matplotlib.pyplot as plt \n",
    "\n",
    "\n",
    "df = pandas.read_csv('HollywoodMovies.csv')"
   ]
  },
  {
   "cell_type": "code",
   "execution_count": 3,
   "metadata": {},
   "outputs": [
    {
     "name": "stdout",
     "output_type": "stream",
     "text": [
      "                                        Movie   LeadStudio  RottenTomatoes  \\\n",
      "3    Pirates of the Caribbean: At World's End       Disney            45.0   \n",
      "468                                   Tangled       Disney            89.0   \n",
      "0                                Spider-Man 3         Sony            61.0   \n",
      "778                     The Dark Knight Rises  Warner Bros            88.0   \n",
      "241    Harry Potter and the Half-Blood Prince  Warner Bros            83.0   \n",
      "\n",
      "     AudienceScore          Story      Genre  TheatersOpenWeek  \\\n",
      "3             74.0         Rescue     Action            4362.0   \n",
      "468           88.0           Love  Animation            3603.0   \n",
      "0             54.0  Metamorphosis     Action            4252.0   \n",
      "778           90.0            NaN        NaN            4404.0   \n",
      "241           75.0          Quest  Adventure            4325.0   \n",
      "\n",
      "     OpeningWeekend  BOAvgOpenWeekend  DomesticGross  ForeignGross  \\\n",
      "3            114.70           26302.0         309.42        654.00   \n",
      "468           48.77           13535.0         200.82        390.97   \n",
      "0            151.10           35540.0         336.53        554.34   \n",
      "778          160.89           36532.0         448.14        636.30   \n",
      "241           77.80           17997.0         302.00        632.00   \n",
      "\n",
      "     WorldGross  Budget  Profitability  OpenProfit  Year  \n",
      "3       963.420   300.0         321.14       38.23  2007  \n",
      "468     591.794   260.0         227.61       18.76  2010  \n",
      "0       890.870   258.0         345.30       58.57  2007  \n",
      "778    1084.440   250.0         433.78       64.36  2012  \n",
      "241     934.000   250.0         373.60       31.12  2009  \n"
     ]
    }
   ],
   "source": [
    "#reverse sort and take top 5 values\n",
    "\n",
    "sorted_df = df.sort_values(\"Budget\", ascending=False)\n",
    "\n",
    "sorted_df = sorted_df[sorted_df[\"Budget\"] > 0]  # removing nan values\n",
    "\n",
    "print(sorted_df.head(5))"
   ]
  }
 ],
 "metadata": {
  "kernelspec": {
   "display_name": "Python 3",
   "language": "python",
   "name": "python3"
  },
  "language_info": {
   "codemirror_mode": {
    "name": "ipython",
    "version": 3
   },
   "file_extension": ".py",
   "mimetype": "text/x-python",
   "name": "python",
   "nbconvert_exporter": "python",
   "pygments_lexer": "ipython3",
   "version": "3.10.7"
  },
  "orig_nbformat": 4
 },
 "nbformat": 4,
 "nbformat_minor": 2
}
