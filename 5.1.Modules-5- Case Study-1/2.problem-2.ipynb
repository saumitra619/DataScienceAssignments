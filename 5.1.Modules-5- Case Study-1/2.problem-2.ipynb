{
 "cells": [
  {
   "cell_type": "code",
   "execution_count": 2,
   "metadata": {},
   "outputs": [],
   "source": [
    "import numpy, pandas \n",
    "import matplotlib.pyplot as plt \n",
    "\n",
    "\n",
    "df = pandas.read_csv('HollywoodMovies.csv')"
   ]
  },
  {
   "cell_type": "code",
   "execution_count": 19,
   "metadata": {},
   "outputs": [
    {
     "name": "stdout",
     "output_type": "stream",
     "text": [
      "genre is  Comedy\n"
     ]
    }
   ],
   "source": [
    "genre_list = df.loc[:,'Genre']\n",
    "\n",
    "genre_movie_count=dict()\n",
    "\n",
    "for i in range(0,len(genre_list)):\n",
    "    if genre_list.loc[i] in genre_movie_count :\n",
    "        genre_movie_count[str(genre_list.loc[i])] += 1\n",
    "    else:\n",
    "        genre_movie_count[str(genre_list.loc[i])] = 1   \n",
    "\n",
    "\n",
    "Keymax = max(genre_movie_count, key= lambda x: genre_movie_count[x])\n",
    "print(\"genre is \", Keymax)\n"
   ]
  }
 ],
 "metadata": {
  "kernelspec": {
   "display_name": "Python 3",
   "language": "python",
   "name": "python3"
  },
  "language_info": {
   "codemirror_mode": {
    "name": "ipython",
    "version": 3
   },
   "file_extension": ".py",
   "mimetype": "text/x-python",
   "name": "python",
   "nbconvert_exporter": "python",
   "pygments_lexer": "ipython3",
   "version": "3.10.7"
  },
  "orig_nbformat": 4
 },
 "nbformat": 4,
 "nbformat_minor": 2
}
