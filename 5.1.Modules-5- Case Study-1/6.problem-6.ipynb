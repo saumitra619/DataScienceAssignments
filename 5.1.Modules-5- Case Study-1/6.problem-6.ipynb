{
 "cells": [
  {
   "cell_type": "code",
   "execution_count": null,
   "metadata": {},
   "outputs": [],
   "source": [
    "import numpy, pandas "
   ]
  },
  {
   "cell_type": "code",
   "execution_count": null,
   "metadata": {},
   "outputs": [],
   "source": [
    "a = ['Amit', 'Bob', 'Kate', 'A', 'b', numpy.nan, 'Car', 'dog', 'cat']\n",
    "\n",
    "myvar = pandas.Series(a)\n",
    "\n",
    "print(myvar.str.lower())\n",
    "\n",
    "print(myvar.str.upper())\n",
    "\n",
    "print(myvar.str.len())"
   ]
  },
  {
   "cell_type": "code",
   "execution_count": null,
   "metadata": {},
   "outputs": [],
   "source": [
    "b = [' Atul', 'John ', ' jack ', 'Sam']\n",
    "\n",
    "myvar1 = pandas.Series(b)\n",
    "\n",
    "print(myvar1.str.lower())\n",
    "\n",
    "print(myvar1.str.upper())\n",
    "\n",
    "print(myvar1.str.len())"
   ]
  },
  {
   "cell_type": "code",
   "execution_count": null,
   "metadata": {},
   "outputs": [],
   "source": [
    "c = ['India_is_big', 'Population_is_huge', numpy.nan, 'Has_diverse_culture']\n",
    "\n",
    "myvar2 = pandas.Series(c)\n",
    "\n",
    "print(myvar2.str.split(\"_\"))\n",
    "\n",
    "print(myvar2.str.split(\"_\").str.get(1))\n",
    "\n",
    "print(myvar2.str.split(\"_\" ,expand=True))"
   ]
  },
  {
   "cell_type": "code",
   "execution_count": null,
   "metadata": {},
   "outputs": [],
   "source": [
    "d = ['A', 'B', 'C', 'AabX', 'BacX','', numpy.nan, 'CABA', 'dog', 'cat']\n",
    "\n",
    "myvar3 = pandas.Series(d)\n",
    "\n",
    "print(myvar3.str.replace('^.a|dog','XX-XX',case=False))"
   ]
  },
  {
   "cell_type": "code",
   "execution_count": null,
   "metadata": {},
   "outputs": [],
   "source": [
    "e = ['12', '-$10', '$10,000']\n",
    "\n",
    "myvar4 = pandas.Series(e)\n",
    "\n",
    "print(myvar4.str.replace('$',''))"
   ]
  },
  {
   "cell_type": "code",
   "execution_count": null,
   "metadata": {},
   "outputs": [],
   "source": [
    "f = ['India 1998', 'big country', numpy.nan]\n",
    "\n",
    "myvar5 = pandas.Series(f)\n",
    "pattern = r'[a-z]+'\n",
    "replacement = lambda x :x.group(0)[::-1]\n",
    "\n",
    "print(myvar5.str.replace(pattern,replacement))"
   ]
  },
  {
   "cell_type": "code",
   "execution_count": null,
   "metadata": {},
   "outputs": [],
   "source": [
    "g = ['1', '2', '1a', '2b', '2003c']\n",
    "\n",
    "myvar6 = pandas.Series(g)\n",
    "\n",
    "print(myvar6.str.contains(r'[0-9][a-z]'))"
   ]
  },
  {
   "cell_type": "code",
   "execution_count": null,
   "metadata": {},
   "outputs": [],
   "source": [
    "h = ['1', '2', '1a', '2b', 'America', 'VietnAm','vietnam', '2003c']\n",
    "\n",
    "myvar7 = pandas.Series(h)\n",
    "\n",
    "print(myvar7.str.contains('A',na=False))"
   ]
  },
  {
   "cell_type": "code",
   "execution_count": null,
   "metadata": {},
   "outputs": [],
   "source": [
    "i = ['a', 'a|b', numpy.nan, 'a|c']\n",
    "\n",
    "myvar8 = pandas.Series(i)\n",
    "\n",
    "print(myvar8.str.get_dummies(sep='|'))"
   ]
  },
  {
   "cell_type": "code",
   "execution_count": null,
   "metadata": {},
   "outputs": [],
   "source": [
    "left_l = pandas.DataFrame({'key': ['One', 'Two'], 'ltable': [1, 2] })\n",
    "\n",
    "right_l = pandas.DataFrame({'key': ['One', 'Two'], 'rtable': [4, 5] })\n",
    "\n",
    "new_list = pandas.merge(left_l,right_l,on=['key'])\n",
    "\n",
    "print(new_list)"
   ]
  }
 ],
 "metadata": {
  "kernelspec": {
   "display_name": "Python 3",
   "language": "python",
   "name": "python3"
  },
  "language_info": {
   "codemirror_mode": {
    "name": "ipython",
    "version": 3
   },
   "file_extension": ".py",
   "mimetype": "text/x-python",
   "name": "python",
   "nbconvert_exporter": "python",
   "pygments_lexer": "ipython3",
   "version": "3.10.7"
  },
  "orig_nbformat": 4
 },
 "nbformat": 4,
 "nbformat_minor": 2
}
