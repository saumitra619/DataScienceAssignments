{
 "cells": [
  {
   "cell_type": "code",
   "execution_count": 2,
   "metadata": {},
   "outputs": [],
   "source": [
    "import numpy, pandas \n"
   ]
  },
  {
   "cell_type": "code",
   "execution_count": 3,
   "metadata": {},
   "outputs": [],
   "source": [
    "df = pandas.DataFrame({'first_name': ['Jason', 'Molly', 'Tina', 'Jake', 'Amy'],\n",
    "                   'last_name': ['Miller', 'Jacobson', \".\", 'Milner', 'Cooze'],\n",
    "                   'age': [42, 52, 36, 24, 73],\n",
    "                   'preTestScore': [4, 24, 31, \".\", \".\"],\n",
    "                   'postTestScore': [\"25,000\", \"94,000\", 57, 62, 70]})"
   ]
  },
  {
   "cell_type": "code",
   "execution_count": 4,
   "metadata": {},
   "outputs": [
    {
     "name": "stdout",
     "output_type": "stream",
     "text": [
      "********************\n"
     ]
    }
   ],
   "source": [
    "df.to_csv(\"example.csv\")"
   ]
  },
  {
   "cell_type": "code",
   "execution_count": 5,
   "metadata": {},
   "outputs": [
    {
     "name": "stdout",
     "output_type": "stream",
     "text": [
      "   Unnamed: 0 first_name last_name  age preTestScore postTestScore\n",
      "0           0      Jason    Miller   42            4        25,000\n",
      "1           1      Molly  Jacobson   52           24        94,000\n",
      "2           2       Tina         .   36           31            57\n",
      "3           3       Jake    Milner   24            .            62\n",
      "4           4        Amy     Cooze   73            .            70\n"
     ]
    }
   ],
   "source": [
    "df = pandas.read_csv(\"example.csv\")\n",
    "print(df)"
   ]
  },
  {
   "cell_type": "code",
   "execution_count": 6,
   "metadata": {},
   "outputs": [
    {
     "name": "stdout",
     "output_type": "stream",
     "text": [
      "     0           1          2    3             4              5\n",
      "0  NaN  first_name  last_name  age  preTestScore  postTestScore\n",
      "1  0.0       Jason     Miller   42             4         25,000\n",
      "2  1.0       Molly   Jacobson   52            24         94,000\n",
      "3  2.0        Tina          .   36            31             57\n",
      "4  3.0        Jake     Milner   24             .             62\n",
      "5  4.0         Amy      Cooze   73             .             70\n"
     ]
    }
   ],
   "source": [
    "df_without_header = pandas.read_csv(\"example.csv\", header=None)\n",
    "print(df_without_header)"
   ]
  },
  {
   "cell_type": "code",
   "execution_count": 7,
   "metadata": {},
   "outputs": [
    {
     "name": "stdout",
     "output_type": "stream",
     "text": [
      "                      Unnamed: 0  age preTestScore postTestScore\n",
      "first_name last_name                                            \n",
      "Jason      Miller              0   42            4        25,000\n",
      "Molly      Jacobson            1   52           24        94,000\n",
      "Tina       .                   2   36           31            57\n",
      "Jake       Milner              3   24            .            62\n",
      "Amy        Cooze               4   73            .            70\n"
     ]
    }
   ],
   "source": [
    "df_with_index = pandas.read_csv(\"example.csv\", index_col=[\"first_name\", \"last_name\"])\n",
    "print(df_with_index)"
   ]
  },
  {
   "cell_type": "code",
   "execution_count": 8,
   "metadata": {},
   "outputs": [
    {
     "name": "stdout",
     "output_type": "stream",
     "text": [
      "Unnamed: 0       False\n",
      "first_name       False\n",
      "last_name        False\n",
      "age              False\n",
      "preTestScore     False\n",
      "postTestScore    False\n",
      "dtype: bool\n"
     ]
    }
   ],
   "source": [
    "boolean_df = df.isnull().any()\n",
    "print(boolean_df)"
   ]
  },
  {
   "cell_type": "code",
   "execution_count": 9,
   "metadata": {},
   "outputs": [
    {
     "name": "stdout",
     "output_type": "stream",
     "text": [
      "   2  Tina       .  36 31  57\n",
      "0  3  Jake  Milner  24  .  62\n",
      "1  4   Amy   Cooze  73  .  70\n"
     ]
    }
   ],
   "source": [
    "df_skip_rows = pandas.read_csv(\"example.csv\", skiprows=3)\n",
    "print(df_skip_rows)"
   ]
  },
  {
   "cell_type": "code",
   "execution_count": 10,
   "metadata": {},
   "outputs": [
    {
     "name": "stdout",
     "output_type": "stream",
     "text": [
      "   Unnamed: 0 first_name last_name  age preTestScore  postTestScore\n",
      "0           0      Jason    Miller   42            4          25000\n",
      "1           1      Molly  Jacobson   52           24          94000\n",
      "2           2       Tina         .   36           31             57\n",
      "3           3       Jake    Milner   24            .             62\n",
      "4           4        Amy     Cooze   73            .             70\n"
     ]
    }
   ],
   "source": [
    "df_new = pandas.read_csv(\"example.csv\", thousands=\",\")\n",
    "print(df_new)"
   ]
  }
 ],
 "metadata": {
  "kernelspec": {
   "display_name": "Python 3",
   "language": "python",
   "name": "python3"
  },
  "language_info": {
   "codemirror_mode": {
    "name": "ipython",
    "version": 3
   },
   "file_extension": ".py",
   "mimetype": "text/x-python",
   "name": "python",
   "nbconvert_exporter": "python",
   "pygments_lexer": "ipython3",
   "version": "3.10.7"
  },
  "orig_nbformat": 4
 },
 "nbformat": 4,
 "nbformat_minor": 2
}
