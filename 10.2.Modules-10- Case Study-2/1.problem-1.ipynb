{
 "cells": [
  {
   "cell_type": "code",
   "execution_count": 2,
   "metadata": {},
   "outputs": [],
   "source": [
    "import numpy, pandas \n",
    "import matplotlib.pyplot as plt \n",
    "\n",
    "from PIL import Image"
   ]
  },
  {
   "cell_type": "code",
   "execution_count": 3,
   "metadata": {},
   "outputs": [
    {
     "name": "stdout",
     "output_type": "stream",
     "text": [
      "Array shape\n",
      "(185, 272, 3)\n",
      "\n",
      "Dimensions of the Image\n",
      "Height : 185\n",
      "Width : 272\n"
     ]
    }
   ],
   "source": [
    "\n",
    "img = Image.open(\"dogs.jpeg\")\n",
    "np_array = numpy.array(img)\n",
    "\n",
    "print(\"Array shape\")\n",
    "print(np_array.shape)\n",
    "\n",
    "print(\"\\nDimensions of the Image\")\n",
    "print(\"Height : \" + str(img.height))\n",
    "print(\"Width : \" + str(img.width))\n"
   ]
  }
 ],
 "metadata": {
  "kernelspec": {
   "display_name": "Python 3",
   "language": "python",
   "name": "python3"
  },
  "language_info": {
   "codemirror_mode": {
    "name": "ipython",
    "version": 3
   },
   "file_extension": ".py",
   "mimetype": "text/x-python",
   "name": "python",
   "nbconvert_exporter": "python",
   "pygments_lexer": "ipython3",
   "version": "3.10.7"
  },
  "orig_nbformat": 4,
  "vscode": {
   "interpreter": {
    "hash": "26de051ba29f2982a8de78e945f0abaf191376122a1563185a90213a26c5da77"
   }
  }
 },
 "nbformat": 4,
 "nbformat_minor": 2
}
