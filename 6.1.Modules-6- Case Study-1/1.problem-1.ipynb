{
 "cells": [
  {
   "cell_type": "code",
   "execution_count": 1,
   "metadata": {},
   "outputs": [],
   "source": [
    "import numpy, pandas \n",
    "import matplotlib.pyplot as plt \n",
    "\n",
    "\n",
    "df = pandas.read_csv('prisoners.csv')"
   ]
  },
  {
   "cell_type": "code",
   "execution_count": 3,
   "metadata": {},
   "outputs": [
    {
     "name": "stdout",
     "output_type": "stream",
     "text": [
      "            STATE/UT  YEAR  No. of Inmates benefitted by Elementary Education  \\\n",
      "0     Andhra Pradesh  2013                                               9480   \n",
      "1  Arunachal Pradesh  2013                                                  0   \n",
      "2              Assam  2013                                                676   \n",
      "3              Bihar  2013                                               1693   \n",
      "4        Chhatisgarh  2013                                               1664   \n",
      "\n",
      "   No. of Inmates benefitted by Adult Education  \\\n",
      "0                                         13758   \n",
      "1                                             0   \n",
      "2                                           750   \n",
      "3                                          3013   \n",
      "4                                          1803   \n",
      "\n",
      "   No. of Inmates benefitted by Higher Education  \\\n",
      "0                                            672   \n",
      "1                                              0   \n",
      "2                                             14   \n",
      "3                                            125   \n",
      "4                                            192   \n",
      "\n",
      "   No. of Inmates benefitted by Computer Course  \n",
      "0                                           170  \n",
      "1                                             0  \n",
      "2                                            30  \n",
      "3                                          1417  \n",
      "4                                           103  \n"
     ]
    }
   ],
   "source": [
    "print(df.head(5))"
   ]
  },
  {
   "cell_type": "code",
   "execution_count": 4,
   "metadata": {},
   "outputs": [
    {
     "name": "stdout",
     "output_type": "stream",
     "text": [
      "        STATE/UT  YEAR  No. of Inmates benefitted by Elementary Education  \\\n",
      "30  D & N Haveli  2013                                                  0   \n",
      "31   Daman & Diu  2013                                                  0   \n",
      "32         Delhi  2013                                               1458   \n",
      "33   Lakshadweep  2013                                                  0   \n",
      "34   Pondicherry  2013                                                  0   \n",
      "\n",
      "    No. of Inmates benefitted by Adult Education  \\\n",
      "30                                             0   \n",
      "31                                             0   \n",
      "32                                          1187   \n",
      "33                                             0   \n",
      "34                                             0   \n",
      "\n",
      "    No. of Inmates benefitted by Higher Education  \\\n",
      "30                                              0   \n",
      "31                                              0   \n",
      "32                                            908   \n",
      "33                                              0   \n",
      "34                                              0   \n",
      "\n",
      "    No. of Inmates benefitted by Computer Course  \n",
      "30                                             0  \n",
      "31                                             0  \n",
      "32                                           174  \n",
      "33                                             0  \n",
      "34                                             0  \n"
     ]
    }
   ],
   "source": [
    "print(df.tail(5))"
   ]
  },
  {
   "cell_type": "code",
   "execution_count": 5,
   "metadata": {},
   "outputs": [
    {
     "name": "stdout",
     "output_type": "stream",
     "text": [
      "         YEAR  No. of Inmates benefitted by Elementary Education  \\\n",
      "count    35.0                                          35.000000   \n",
      "mean   2013.0                                        1057.914286   \n",
      "std       0.0                                        2078.196777   \n",
      "min    2013.0                                           0.000000   \n",
      "25%    2013.0                                           0.000000   \n",
      "50%    2013.0                                         167.000000   \n",
      "75%    2013.0                                        1294.500000   \n",
      "max    2013.0                                        9480.000000   \n",
      "\n",
      "       No. of Inmates benefitted by Adult Education  \\\n",
      "count                                     35.000000   \n",
      "mean                                    1534.857143   \n",
      "std                                     3022.110503   \n",
      "min                                        0.000000   \n",
      "25%                                        6.500000   \n",
      "50%                                      237.000000   \n",
      "75%                                     1733.500000   \n",
      "max                                    13758.000000   \n",
      "\n",
      "       No. of Inmates benefitted by Higher Education  \\\n",
      "count                                      35.000000   \n",
      "mean                                      237.457143   \n",
      "std                                       375.614191   \n",
      "min                                         0.000000   \n",
      "25%                                         2.000000   \n",
      "50%                                        33.000000   \n",
      "75%                                       234.500000   \n",
      "max                                      1353.000000   \n",
      "\n",
      "       No. of Inmates benefitted by Computer Course  \n",
      "count                                     35.000000  \n",
      "mean                                     210.171429  \n",
      "std                                      359.117340  \n",
      "min                                        0.000000  \n",
      "25%                                        0.000000  \n",
      "50%                                       38.000000  \n",
      "75%                                      227.500000  \n",
      "max                                     1417.000000  \n"
     ]
    }
   ],
   "source": [
    "print(df.describe())\n"
   ]
  },
  {
   "cell_type": "code",
   "execution_count": null,
   "metadata": {},
   "outputs": [],
   "source": []
  }
 ],
 "metadata": {
  "kernelspec": {
   "display_name": "Python 3",
   "language": "python",
   "name": "python3"
  },
  "language_info": {
   "codemirror_mode": {
    "name": "ipython",
    "version": 3
   },
   "file_extension": ".py",
   "mimetype": "text/x-python",
   "name": "python",
   "nbconvert_exporter": "python",
   "pygments_lexer": "ipython3",
   "version": "3.10.7"
  },
  "orig_nbformat": 4
 },
 "nbformat": 4,
 "nbformat_minor": 2
}
