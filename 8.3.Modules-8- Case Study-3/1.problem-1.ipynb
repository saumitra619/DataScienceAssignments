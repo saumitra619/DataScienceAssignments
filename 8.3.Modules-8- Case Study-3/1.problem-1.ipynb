{
 "cells": [
  {
   "cell_type": "code",
   "execution_count": null,
   "metadata": {},
   "outputs": [],
   "source": [
    "import numpy, pandas \n",
    "import matplotlib.pyplot as plt \n",
    "\n",
    "from sklearn.decomposition import PCA\n",
    "from sklearn.preprocessing import LabelEncoder\n",
    "from sklearn.preprocessing import StandardScaler\n",
    "from sklearn.model_selection import train_test_split\n",
    "\n",
    "df = pandas.read_csv('breast-cancer-data.csv' ,index_col = 0, thousands = ',')\n",
    "\n",
    "df.head()"
   ]
  },
  {
   "cell_type": "code",
   "execution_count": null,
   "metadata": {},
   "outputs": [],
   "source": [
    "\n",
    "df_cancer = df\n",
    "\n",
    "y = df_cancer['diagnosis']\n",
    "\n",
    "df_cancer.drop([\"diagnosis\"], inplace=True, axis=1)\n",
    "\n",
    "df_cancer.head()\n",
    "\n"
   ]
  },
  {
   "cell_type": "code",
   "execution_count": null,
   "metadata": {},
   "outputs": [],
   "source": [
    "\n",
    "#U=LabelEncoder()\n",
    "\n",
    "#Y=U.fit_transform(y)\n",
    "\n",
    "#X = df_cancer\n",
    "\n",
    "#X = StandardScaler().fit_transform(X)\n",
    "\n",
    "#X_train, X_test, y_train, y_test = train_test_split(X, y, test_size=0.2, random_state=0)\n",
    "\n",
    "#pca = PCA(.90) # find the minimum no of principal components which variance amount over 90%\n",
    "\n",
    "#principalComponents = pca.fit(X_train)\n",
    "\n",
    "#pca.explained_variance_ratio_\n"
   ]
  },
  {
   "cell_type": "code",
   "execution_count": null,
   "metadata": {},
   "outputs": [],
   "source": [
    "model_pca = PCA(n_components = 2)\n",
    "\n",
    "model_pca.fit(df_cancer)\n",
    "\n",
    "transformer_data = model_pca.transform(df_cancer)"
   ]
  },
  {
   "cell_type": "code",
   "execution_count": null,
   "metadata": {},
   "outputs": [],
   "source": [
    "new_df = pandas.DataFrame(transformer_data)\n",
    "\n",
    "new_df.index = df_cancer.index # Setting original Index\n",
    "\n",
    "new_df.columns = [\"PC1\", \"PC2\"] # Changing Column names\n",
    "\n",
    "new_df[\"diagnosis\"] = y # Adding Result column\n",
    "\n",
    "new_df.head()\n",
    "\n"
   ]
  },
  {
   "cell_type": "code",
   "execution_count": null,
   "metadata": {},
   "outputs": [],
   "source": [
    "print(model_pca.explained_variance_ratio_)"
   ]
  }
 ],
 "metadata": {
  "kernelspec": {
   "display_name": "Python 3",
   "language": "python",
   "name": "python3"
  },
  "language_info": {
   "codemirror_mode": {
    "name": "ipython",
    "version": 3
   },
   "file_extension": ".py",
   "mimetype": "text/x-python",
   "name": "python",
   "nbconvert_exporter": "python",
   "pygments_lexer": "ipython3",
   "version": "3.10.7"
  },
  "orig_nbformat": 4
 },
 "nbformat": 4,
 "nbformat_minor": 2
}
